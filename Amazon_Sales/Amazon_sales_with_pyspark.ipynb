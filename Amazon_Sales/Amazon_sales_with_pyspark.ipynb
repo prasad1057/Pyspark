{
 "cells": [
  {
   "cell_type": "code",
   "execution_count": 2,
   "metadata": {},
   "outputs": [],
   "source": [
    "# Importing Libraries\n",
    "\n",
    "from pyspark.sql import SparkSession\n",
    "from pyspark.sql.functions import avg,count,desc,length,when,col \n",
    "\n",
    "spark = SparkSession.builder.appName(\"Amazon Data Enginerrring\").getOrCreate()"
   ]
  },
  {
   "cell_type": "code",
   "execution_count": 3,
   "metadata": {},
   "outputs": [
    {
     "name": "stdout",
     "output_type": "stream",
     "text": [
      "+----------+--------------------+--------------------+----------------+------------+-------------------+------+------------+---------------------+--------------------+--------------------+--------------------+--------------------+--------------------+--------------------+--------------------+\n",
      "|product_id|        product_name|            category|discounted_price|actual_price|discount_percentage|rating|rating_count|        about_product|             user_id|           user_name|           review_id|        review_title|      review_content|            img_link|        product_link|\n",
      "+----------+--------------------+--------------------+----------------+------------+-------------------+------+------------+---------------------+--------------------+--------------------+--------------------+--------------------+--------------------+--------------------+--------------------+\n",
      "|B07JW9H4J1|Wayona Nylon Brai...|Computers&Accesso...|            ₹399|      ₹1,099|                64%|   4.2|      24,269| High Compatibilit...|AG3D6O4STAQKAY2UV...|Manav,Adarsh gupt...|R3HXWT0LRP0NMF,R2...|Satisfied,Chargin...|Looks durable Cha...|https://m.media-a...|https://www.amazo...|\n",
      "|B098NS6PVG|Ambrane Unbreakab...|Computers&Accesso...|            ₹199|        ₹349|                43%|   4.0|      43,994| Compatible with a...|AECPFYFQVRUWC3KGN...|ArdKn,Nirbhay kum...|RGIQEG07R9HS2,R1S...|A Good Braided Ca...|I ordered this ca...|https://m.media-a...|https://www.amazo...|\n",
      "|B096MSW6CT|Sounce Fast Phone...|Computers&Accesso...|            ₹199|      ₹1,899|                90%|   3.9|       7,928|【 Fast Charger& D...|AGU3BBQ2V2DDAMOAK...|Kunal,Himanshu,vi...|R3J3EQQ9TZI5ZJ,R3...|Good speed for ea...|Not quite durable...|https://m.media-a...|https://www.amazo...|\n",
      "|B08HDJ86NZ|boAt Deuce USB 30...|Computers&Accesso...|            ₹329|        ₹699|                53%|   4.2|      94,363| The boAt Deuce US...|AEWAZDZZJLQUYVOVG...|Omkar dhale,JD,HE...|R3EEUZKKK9J36I,R3...|Good product,Good...|Good product,long...|https://m.media-a...|https://www.amazo...|\n",
      "|B08CF3B7N1|Portronics Konnec...|Computers&Accesso...|            ₹154|        ₹399|                61%|   4.2|      16,905| [CHARGE & SYNC FU...|AE3Q6KSUK5P75D5HF...|rahuls6099,Swasat...|R1BP4L2HH9TFUP,R1...|As good as origin...|Bought this inste...|https://m.media-a...|https://www.amazo...|\n",
      "|B08Y1TFSP6|pTron Solero TB30...|Computers&Accesso...|            ₹149|      ₹1,000|                85%|   3.9|      24,871| Fast Charging & D...|AEQ2YMXSZWEOHK2EH...|Jayesh,Rajesh k.,...|R7S8ANNSDPR40,R3C...|It's pretty good,...|It's a good produ...|https://m.media-a...|https://www.amazo...|\n",
      "|B08WRWPM22|boAt Micro USB 55...|Computers&Accesso...|         ₹176.63|        ₹499|                65%|   4.1|      15,188| It Ensures High S...|AG7C6DAADCTRQJG2B...|Vivek kumar,Amazo...|R8E73K2KWJRDS,RSD...|Long durable.,goo...|Build quality is ...|https://m.media-a...|https://www.amazo...|\n",
      "|B08DDRGWTJ|MI Usb Type-C Cab...|Computers&Accesso...|            ₹229|        ₹299|                23%|   4.3|      30,411| 1m long Type-C US...|AHW6E5LQ2BDYOIVLA...|Pavan A H,Jayesh ...|R2X090D1YHACKR,R3...|Worth for money -...|Worth for money -...|https://m.media-a...|https://www.amazo...|\n",
      "|B008IFXQFU|TP-Link USB WiFi ...|Computers&Accesso...|            ₹499|        ₹999|                50%|   4.2|    1,79,691| USB WiFi Adapter ...|AGV3IEFANZCKECFGU...|Azhar JuMan,Aniru...|R1LW6NWSVTVZ2H,R3...|Works on linux fo...|I use this to con...|https://m.media-a...|https://www.amazo...|\n",
      "|B082LZGK39|Ambrane Unbreakab...|Computers&Accesso...|            ₹199|        ₹299|                33%|   4.0|      43,994| Universal Compati...|AECPFYFQVRUWC3KGN...|ArdKn,Nirbhay kum...|RGIQEG07R9HS2,R1S...|A Good Braided Ca...|I ordered this ca...|https://m.media-a...|https://www.amazo...|\n",
      "|B08CF3D7QR|Portronics Konnec...|Computers&Accesso...|            ₹154|        ₹339|                55%|   4.3|      13,391| [CHARGE & SYNC FU...|AGYLPKPZHVYKKZHOT...|Tanya,Anu,Akshay,...|R11MQS7WD9C3I0,R2...|Good for fast cha...|The cable is effi...|https://m.media-a...|https://www.amazo...|\n",
      "|B0789LZTCJ|boAt Rugged v3 Ex...|Computers&Accesso...|            ₹299|        ₹799|                63%|   4.2|      94,363| The boAt rugged c...|AEWAZDZZJLQUYVOVG...|Omkar dhale,JD,HE...|R3EEUZKKK9J36I,R3...|Good product,Good...|Good product,long...|https://m.media-a...|https://www.amazo...|\n",
      "|B07KSMBL2H|AmazonBasics Flex...|Electronics|HomeT...|            ₹219|        ₹700|                69%|   4.4|    4,26,973| Flexible, lightwe...|AEYJ5I6JZZPOJB6MG...|Rishav Gossain,Sh...|R1FKOKZ3HHKJBZ,R2...|It's quite good a...|I am using it for...|https://m.media-a...|https://www.amazo...|\n",
      "|B085DTN6R2|Portronics Konnec...|Computers&Accesso...|            ₹350|        ₹899|                61%|   4.2|       2,262| [20W PD FAST CHAR...|AGUAYQHARAKR2VZTR...|Priya,Mansi,Plaba...|R1QETDIPRCX4S0,RA...|Works,Nice Produc...|Definitely isn’t ...|https://m.media-a...|https://www.amazo...|\n",
      "|B09KLVMZ3B|Portronics Konnec...|Computers&Accesso...|            ₹159|        ₹399|                60%|   4.1|       4,768| [CHARGE & SYNC FU...|AF2XXVO7JUBUVAOBT...|Deepaak Singh,siv...|R20XIOU25HEX80,R2...|Great but,Worked ...|Loosing charging ...|https://m.media-a...|https://www.amazo...|\n",
      "|B083342NKJ|MI Braided USB Ty...|Computers&Accesso...|            ₹349|        ₹399|                13%|   4.4|      18,757| 1M Long Cable. Us...|AGSGSRTEZBQY64WO2...|Birendra ku Dash,...|R2JPQNKCOE10UK,RQ...|Good product,usin...|I like it 👍👍,Be...|https://m.media-a...|https://www.amazo...|\n",
      "|B0B6F7LX4C|MI 80 cm (32 inch...|Electronics|HomeT...|         ₹13,999|     ₹24,999|                44%|   4.2|      32,840| Note : The brands...|AHEVOQADJSSRX7DS3...|Manoj maddheshiya...|R13UTIA6KOF6QV,R2...|It is the best tv...|Pros- xiomi 5a is...|https://m.media-a...|https://www.amazo...|\n",
      "|B082LSVT4B|Ambrane Unbreakab...|Computers&Accesso...|            ₹249|        ₹399|                38%|   4.0|      43,994| Compatible with a...|AECPFYFQVRUWC3KGN...|ArdKn,Nirbhay kum...|RGIQEG07R9HS2,R1S...|A Good Braided Ca...|I ordered this ca...|https://m.media-a...|https://www.amazo...|\n",
      "|B08WRBG3XW|boAt Type C A325 ...|Computers&Accesso...|            ₹199|        ₹499|                60%|   4.1|      13,045| Type C A 325 Cabl...|AFB5KJR4Q5FICAHBO...|Rohan Narkar,JAGW...|R2BP8Y5OJXKJLF,R2...|Good for charging...|Check for offera ...|https://m.media-a...|https://www.amazo...|\n",
      "|B08DPLCM6T|LG 80 cm (32 inch...|Electronics|HomeT...|         ₹13,490|     ₹21,990|                39%|   4.3|      11,976| Resolution: HD Re...|AHBNKB74LGTYUOKPA...|NIRMAL.N,Manoj ku...|R2PNR69G0BQG2F,R3...|Sound quality,Ver...|LG was always Goo...|https://m.media-a...|https://www.amazo...|\n",
      "+----------+--------------------+--------------------+----------------+------------+-------------------+------+------------+---------------------+--------------------+--------------------+--------------------+--------------------+--------------------+--------------------+--------------------+\n",
      "only showing top 20 rows\n",
      "\n"
     ]
    }
   ],
   "source": [
    "# Load the CSV file into a DataFrame\n",
    "df = spark.read.format(\"csv\").option(\"header\", \"true\").option(\"inferSchema\", \"true\").load(\"amazon (1).csv\")\n",
    "\n",
    "# Show the DataFrame content\n",
    "df.show()\n"
   ]
  },
  {
   "cell_type": "code",
   "execution_count": 4,
   "metadata": {},
   "outputs": [
    {
     "name": "stdout",
     "output_type": "stream",
     "text": [
      "+--------------------+\n",
      "|        product_name|\n",
      "+--------------------+\n",
      "|Wayona Nylon Brai...|\n",
      "|Ambrane Unbreakab...|\n",
      "|Sounce Fast Phone...|\n",
      "|boAt Deuce USB 30...|\n",
      "|Portronics Konnec...|\n",
      "|pTron Solero TB30...|\n",
      "|boAt Micro USB 55...|\n",
      "|MI Usb Type-C Cab...|\n",
      "|TP-Link USB WiFi ...|\n",
      "|Ambrane Unbreakab...|\n",
      "|Portronics Konnec...|\n",
      "|boAt Rugged v3 Ex...|\n",
      "|AmazonBasics Flex...|\n",
      "|Portronics Konnec...|\n",
      "|Portronics Konnec...|\n",
      "|MI Braided USB Ty...|\n",
      "|MI 80 cm (32 inch...|\n",
      "|Ambrane Unbreakab...|\n",
      "|boAt Type C A325 ...|\n",
      "|LG 80 cm (32 inch...|\n",
      "+--------------------+\n",
      "only showing top 20 rows\n",
      "\n"
     ]
    }
   ],
   "source": [
    "# To select the only product name \n",
    "df.select('product_name').show()"
   ]
  },
  {
   "cell_type": "code",
   "execution_count": 6,
   "metadata": {},
   "outputs": [
    {
     "name": "stdout",
     "output_type": "stream",
     "text": [
      "+----------+--------------------+----------+\n",
      "|product_id|        product_name|avg_rating|\n",
      "+----------+--------------------+----------+\n",
      "|B0BQRJ3C47|REDTECH USB-C to ...|       5.0|\n",
      "|B0BP7XLX48|Syncwire LTG to U...|       5.0|\n",
      "|B09ZHCJDP1|Amazon Basics Wir...|       5.0|\n",
      "|B0BQ3K23Y1|Oratech Coffee Fr...|       4.8|\n",
      "|B0BR4F878Q|Swiffer Instant E...|       4.8|\n",
      "|B0B53DS4TF|Instant Pot Air F...|       4.8|\n",
      "|B0BLC2BYPX|Zuvexa USB Rechar...|       4.7|\n",
      "|B0B23LW7NV|Spigen EZ Fit Tem...|       4.7|\n",
      "|B09WN3SRC7|Sony Bravia 164 c...|       4.7|\n",
      "|B0BM4KTNL1|FIGMENT Handheld ...|       4.7|\n",
      "+----------+--------------------+----------+\n",
      "\n"
     ]
    }
   ],
   "source": [
    "# Top Products by Rating on Amazon\n",
    "top_rated_product = df.groupby('product_id','product_name').agg(avg('rating').alias('avg_rating')).orderBy(desc('avg_rating')).limit(10) \n",
    "top_rated_product.show()"
   ]
  },
  {
   "cell_type": "code",
   "execution_count": 7,
   "metadata": {},
   "outputs": [
    {
     "name": "stdout",
     "output_type": "stream",
     "text": [
      "+----------+--------------------+-----+\n",
      "|product_id|        product_name|count|\n",
      "+----------+--------------------+-----+\n",
      "|B09YLXYP7Y|Ambrane 60W / 3A ...|    3|\n",
      "|B09C6HXFC1|Duracell USB Ligh...|    3|\n",
      "|B085DTN6R2|Portronics Konnec...|    3|\n",
      "|B082T6V3DT|AmazonBasics New ...|    3|\n",
      "|B08Y1TFSP6|pTron Solero TB30...|    3|\n",
      "|B08WRWPM22|boAt Micro USB 55...|    3|\n",
      "|B08HDJ86NZ|boAt Deuce USB 30...|    3|\n",
      "|B096MSW6CT|Sounce Fast Phone...|    3|\n",
      "|B08CF3D7QR|Portronics Konnec...|    3|\n",
      "|B08R69VDHT|Pinnaclz Original...|    3|\n",
      "+----------+--------------------+-----+\n",
      "\n"
     ]
    }
   ],
   "source": [
    "# most reviwed products\n",
    "most_reviwed_products = df.groupby('product_id','product_name').count().orderBy(desc('count')).limit(10)\n",
    "most_reviwed_products.show()"
   ]
  },
  {
   "cell_type": "code",
   "execution_count": 8,
   "metadata": {},
   "outputs": [
    {
     "name": "stdout",
     "output_type": "stream",
     "text": [
      "+--------------------+------------+\n",
      "|            category|avg_discount|\n",
      "+--------------------+------------+\n",
      "|           reminders|        NULL|\n",
      "|Computers&Accesso...|        NULL|\n",
      "|OfficeProducts|Of...|        NULL|\n",
      "|OfficeProducts|Of...|        NULL|\n",
      "|Electronics|Camer...|        NULL|\n",
      "|Computers&Accesso...|        NULL|\n",
      "|      TWS Connection|        NULL|\n",
      "|     123 Sports Mode|        NULL|\n",
      "|Computers&Accesso...|        NULL|\n",
      "|Computers&Accesso...|        NULL|\n",
      "|         81X800LGIN\"|        NULL|\n",
      "|Computers&Accesso...|        NULL|\n",
      "|Health&PersonalCa...|        NULL|\n",
      "|    170+ Watch Faces|        NULL|\n",
      "|Home&Kitchen|Kitc...|        NULL|\n",
      "|Home&Kitchen|Kitc...|        NULL|\n",
      "|     60 Sports Modes|        NULL|\n",
      "|OfficeProducts|Of...|        NULL|\n",
      "|Home&Kitchen|Heat...|        NULL|\n",
      "|Electronics|Mobil...|        NULL|\n",
      "+--------------------+------------+\n",
      "only showing top 20 rows\n",
      "\n"
     ]
    }
   ],
   "source": [
    "# Discount Analysis\n",
    "discount_analysis = df.groupby('category').agg(avg('discount_percentage').alias('avg_discount'))\n",
    "discount_analysis.show()"
   ]
  },
  {
   "cell_type": "code",
   "execution_count": 9,
   "metadata": {},
   "outputs": [
    {
     "name": "stdout",
     "output_type": "stream",
     "text": [
      "+----------+----------+------------+\n",
      "|product_id|avg_rating|rating_count|\n",
      "+----------+----------+------------+\n",
      "|B0B3CQBRB4|       4.3|           1|\n",
      "|B09TWHTBKQ|       4.1|           1|\n",
      "|B09T2WRLJJ|       3.9|           1|\n",
      "|B09SJ1FTYV|       4.0|           1|\n",
      "|B09CTRPSJR|       3.8|           1|\n",
      "|B0B25DJ352|       4.3|           1|\n",
      "|B00NH11KIK|       4.5|           2|\n",
      "|B08CTNJ985|       4.3|           1|\n",
      "|B0BF54LXW6|      NULL|           1|\n",
      "|B098QXR9X2|       4.1|           1|\n",
      "|B00LOD70SC|       4.3|           1|\n",
      "|B07GLNJC25|       3.7|           1|\n",
      "|B0B2CPVXHX|       4.1|           1|\n",
      "|B00LY17RHI|       4.1|           1|\n",
      "|B07QMRHWJD|       4.3|           1|\n",
      "|B09Y5FZK9N|       3.7|           1|\n",
      "|B0BMTZ4T1D|       4.5|           1|\n",
      "|B07B275VN9|       3.7|           1|\n",
      "|B0B8CHJLWJ|       4.5|           1|\n",
      "|B07JQKQ91F|       3.9|           1|\n",
      "+----------+----------+------------+\n",
      "only showing top 20 rows\n",
      "\n"
     ]
    }
   ],
   "source": [
    "# User Engagement \n",
    "user_engagement = df.groupBy('product_id').agg(avg('rating').alias('avg_rating'), count('rating').alias('rating_count'))\n",
    "user_engagement.show()"
   ]
  },
  {
   "cell_type": "code",
   "execution_count": 10,
   "metadata": {},
   "outputs": [],
   "source": [
    "# Creating Temp Table from df1\n",
    "df.createOrReplaceTempView(\"amazon_sales_analysis\")"
   ]
  },
  {
   "cell_type": "code",
   "execution_count": 13,
   "metadata": {},
   "outputs": [
    {
     "name": "stdout",
     "output_type": "stream",
     "text": [
      "+----------+--------------------+--------------------+----------------+------------+-------------------+------+------------+--------------------+--------------------+--------------------+--------------------+--------------------+--------------------+--------------------+--------------------+\n",
      "|product_id|        product_name|            category|discounted_price|actual_price|discount_percentage|rating|rating_count|       about_product|             user_id|           user_name|           review_id|        review_title|      review_content|            img_link|        product_link|\n",
      "+----------+--------------------+--------------------+----------------+------------+-------------------+------+------------+--------------------+--------------------+--------------------+--------------------+--------------------+--------------------+--------------------+--------------------+\n",
      "|B002PD61Y4|D-Link DWA-131 30...|Computers&Accesso...|            ₹507|      ₹1,208|                58%|   4.1|       8,131|Connects your com...|AGA2PZGWMQIRA46VY...|nilesh,EAGLE,Mano...|R2EJIN3N3L3XKI,R2...|good tool to use ...|good quality tool...|https://m.media-a...|https://www.amazo...|\n",
      "|B002PD61Y4|D-Link DWA-131 30...|Computers&Accesso...|            ₹507|      ₹1,208|                58%|   4.1|       8,131|Connects your com...|AGA2PZGWMQIRA46VY...|nilesh,EAGLE,Mano...|R2EJIN3N3L3XKI,R2...|good tool to use ...|good quality tool...|https://m.media-a...|https://www.amazo...|\n",
      "|B002SZEOLG|TP-Link Nano USB ...|Computers&Accesso...|            ₹749|      ₹1,339|                44%|   4.2|    1,79,692|150 Mbps Wi-Fi ——...|AGV3IEFANZCKECFGU...|Azhar JuMan,Aniru...|R1LW6NWSVTVZ2H,R3...|Works on linux fo...|I use this to con...|https://m.media-a...|https://www.amazo...|\n",
      "|B003B00484|Duracell Plus AAA...|Electronics|Gener...|            ₹399|        ₹499|                20%|   4.3|      27,201|Duracell Recharge...|AG2ICOYPSOV5SGBKF...|T N Sivaji,Akku,V...|R5L3FAFS6JXJF,R1V...|Works Good,Perfec...|Works good,Bought...|https://m.media-a...|https://www.amazo...|\n",
      "|B003L62T7W|Logitech B100 Wir...|Computers&Accesso...|            ₹279|        ₹375|                26%|   4.3|      31,534|A comfortable, am...|AE6DY6YWTSSE3XNHD...|Uday Joglekar,Sim...|R3U9FRV2Q625DO,R3...|Handy Mouse,Good ...|Liked this Produc...|https://m.media-a...|https://www.amazo...|\n",
      "|B004IO5BMQ|Logitech M235 Wir...|Computers&Accesso...|            ₹699|        ₹995|                30%|   4.5|      54,405|You can surf the ...|AGIOL4B6EPMZ63RZQ...|Chandrashekar SK,...|R28ZB0YUM6FKKB,RN...|Good silent mouse...|It's little small...|https://m.media-a...|https://www.amazo...|\n",
      "|B005FYNT3G|SanDisk Cruzer Bl...|Computers&Accesso...|            ₹289|        ₹650|                56%|   4.3|    2,53,105|Ultra-compact and...|AFNMA3FQAONYMREOF...|RAJIV D.,Antony G...|R2XCI5KR2H8QEI,R3...|Good product,Affo...|Very chip very go...|https://m.media-a...|https://www.amazo...|\n",
      "|B005LJQMCK|BlueRigger Digita...|Electronics|HomeT...|            ₹416|        ₹599|                31%|   4.2|      30,023|Enables easy inst...|AG44ZU44LAA7BHECD...|Mahender Singh,Vi...|R25CCWBNTJMZVE,R1...|Value for Money,A...|Using with my Xbo...|https://m.media-a...|https://www.amazo...|\n",
      "|B005LJQMZC|BlueRigger Digita...|Electronics|HomeT...|            ₹486|      ₹1,999|                76%|   4.2|      30,023|Enables easy inst...|AG44ZU44LAA7BHECD...|Mahender Singh,Vi...|R25CCWBNTJMZVE,R1...|Value for Money,A...|Using with my Xbo...|https://m.media-a...|https://www.amazo...|\n",
      "|B006LW0WDQ|Amazon Basics 16-...|Electronics|HomeT...|            ₹399|        ₹795|                50%|   4.4|      12,091|50 Feet of 16-gau...|AE4DPKX5AMUCEWM45...|HaRshal Kapote,Ch...|R10L0LUK0SEJPL,R2...|Good,Good Quality...|Good Packaging.. ...|https://m.media-a...|https://www.amazo...|\n",
      "+----------+--------------------+--------------------+----------------+------------+-------------------+------+------------+--------------------+--------------------+--------------------+--------------------+--------------------+--------------------+--------------------+--------------------+\n",
      "\n"
     ]
    }
   ],
   "source": [
    "# Run the SQL query\n",
    "result_df = spark.sql('SELECT * FROM amazon_sales_analysis ORDER BY product_id LIMIT 10')\n",
    "\n",
    "# Display the result\n",
    "result_df.show()\n"
   ]
  },
  {
   "cell_type": "code",
   "execution_count": null,
   "metadata": {},
   "outputs": [],
   "source": []
  }
 ],
 "metadata": {
  "kernelspec": {
   "display_name": "Python 3",
   "language": "python",
   "name": "python3"
  },
  "language_info": {
   "codemirror_mode": {
    "name": "ipython",
    "version": 3
   },
   "file_extension": ".py",
   "mimetype": "text/x-python",
   "name": "python",
   "nbconvert_exporter": "python",
   "pygments_lexer": "ipython3",
   "version": "3.12.1"
  }
 },
 "nbformat": 4,
 "nbformat_minor": 2
}
